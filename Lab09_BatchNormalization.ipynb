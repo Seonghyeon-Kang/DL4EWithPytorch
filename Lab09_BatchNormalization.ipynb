{
 "cells": [
  {
   "cell_type": "markdown",
   "metadata": {},
   "source": [
    "# Batch Normalization"
   ]
  },
  {
   "cell_type": "markdown",
   "metadata": {},
   "source": [
    "## definition\n",
    "the method to control covariate shift at each layer "
   ]
  },
  {
   "cell_type": "markdown",
   "metadata": {},
   "source": [
    "\\begin{equation}\n",
    "{μ}_{Β} ←  \\\\\n",
    "Var(W) = \\sqrt{\\frac{2} {n_{in} + n_{out}}} \\\\\n",
    "\\end{equation}"
   ]
  },
  {
   "cell_type": "markdown",
   "metadata": {},
   "source": [
    "\\begin{equation*}\n",
    "    m = \\frac{\\sum{}^{} {}}{\\sqrt{1-\\frac{v^2}{c^2}‭}}\n",
    "\\end{equation*}"
   ]
  },
  {
   "cell_type": "code",
   "execution_count": 1,
   "metadata": {},
   "outputs": [],
   "source": [
    "import torch\n",
    "import torchvision.datasets as dsets\n",
    "import torchvision.transforms as transforms\n",
    "import matplotlib.pylab as plt"
   ]
  },
  {
   "cell_type": "code",
   "execution_count": 2,
   "metadata": {},
   "outputs": [],
   "source": [
    "device = 'cuda' if torch.cuda.is_available() else 'cpu'\n",
    "\n",
    "# for reporductibility\n",
    "torch.manual_seed(1)\n",
    "if device == 'cuda':\n",
    "    torch.cuda.manual_seed_all(1)"
   ]
  },
  {
   "cell_type": "code",
   "execution_count": 3,
   "metadata": {},
   "outputs": [],
   "source": [
    "# parameters\n",
    "lr = 0.01\n",
    "epochs = 10\n",
    "batch_size = 32"
   ]
  },
  {
   "cell_type": "code",
   "execution_count": 4,
   "metadata": {},
   "outputs": [],
   "source": [
    "mnist_train = dsets.MNIST(root=\"../_datasets/\", # 파일의 위치\n",
    "                          train=True, # 학습 데이터 여부\n",
    "                          transform=transforms.ToTensor(), # 데이터의 순서를 이미지에서 텐서에 맞도록 변환\n",
    "                                                           # 일반 이미지 : 값 0~255, 순서 Height, Weight, Channel\n",
    "                                                           # 변환된 이미지 : 값 0~1, 순서 Channel, Height, Weight\n",
    "                          download=True)                   # 데이터가 없는 경우 다운을 받음\n",
    "mnist_test = dsets.MNIST(root=\"../_datasets/\", \n",
    "                          train=False, \n",
    "                          transform=transforms.ToTensor(),\n",
    "                          download=True)"
   ]
  },
  {
   "cell_type": "code",
   "execution_count": 5,
   "metadata": {},
   "outputs": [],
   "source": [
    "# dataset loader\n",
    "train_loader = torch.utils.data.DataLoader(dataset=mnist_train,\n",
    "                                           batch_size=batch_size,\n",
    "                                           shuffle=True,\n",
    "                                           drop_last=True)\n",
    "\n",
    "test_loader = torch.utils.data.DataLoader(dataset=mnist_test,\n",
    "                                          batch_size=batch_size,\n",
    "                                          shuffle=False,\n",
    "                                          drop_last=True)"
   ]
  },
  {
   "cell_type": "code",
   "execution_count": 6,
   "metadata": {},
   "outputs": [],
   "source": [
    "# nn layers\n",
    "linear1 = torch.nn.Linear(784, 32, bias = True)\n",
    "linear2 = torch.nn.Linear(32, 32, bias = True)\n",
    "linear3 = torch.nn.Linear(32, 10, bias = True)\n",
    "relu = torch.nn.ReLU()\n",
    "bn1 = torch.nn.BatchNorm1d(32)\n",
    "bn2 = torch.nn.BatchNorm1d(32)\n",
    "\n",
    "nn_linear1 = torch.nn.Linear(784, 32, bias = True)\n",
    "nn_linear2 = torch.nn.Linear(32, 32, bias = True)\n",
    "nn_linear3 = torch.nn.Linear(32, 10, bias = True)"
   ]
  },
  {
   "cell_type": "code",
   "execution_count": 7,
   "metadata": {},
   "outputs": [],
   "source": [
    "# model\n",
    "bn_model = torch.nn.Sequential(linear1, bn1, relu,\n",
    "                               linear2, bn2, relu,\n",
    "                               linear3).to(device)\n",
    "nn_model = torch.nn.Sequential(nn_linear1, relu,\n",
    "                               nn_linear2, relu,\n",
    "                               nn_linear3).to(device)"
   ]
  },
  {
   "cell_type": "code",
   "execution_count": 8,
   "metadata": {},
   "outputs": [],
   "source": [
    "# cost, loss, optimizer\n",
    "criterion = torch.nn.CrossEntropyLoss().to(device)\n",
    "bn_optimizer = torch.optim.Adam(bn_model.parameters(), lr=lr)\n",
    "nn_optimizer = torch.optim.Adam(nn_model.parameters(), lr=lr)"
   ]
  },
  {
   "cell_type": "code",
   "execution_count": 14,
   "metadata": {},
   "outputs": [
    {
     "name": "stdout",
     "output_type": "stream",
     "text": [
      "[Epoch 1-VALID] Batchnorm Loss(Acc): bn_loss:0.04811(bn_acc:0.00) vs No Batchnorm Loss(Acc): nn_loss:0.04808(nn_acc:0.00)\n",
      "[Epoch 2-VALID] Batchnorm Loss(Acc): bn_loss:0.04370(bn_acc:0.00) vs No Batchnorm Loss(Acc): nn_loss:0.04369(nn_acc:0.00)\n",
      "[Epoch 3-VALID] Batchnorm Loss(Acc): bn_loss:0.04125(bn_acc:0.00) vs No Batchnorm Loss(Acc): nn_loss:0.04125(nn_acc:0.00)\n",
      "[Epoch 4-VALID] Batchnorm Loss(Acc): bn_loss:0.04038(bn_acc:0.00) vs No Batchnorm Loss(Acc): nn_loss:0.04035(nn_acc:0.00)\n",
      "[Epoch 5-VALID] Batchnorm Loss(Acc): bn_loss:0.04072(bn_acc:0.00) vs No Batchnorm Loss(Acc): nn_loss:0.04070(nn_acc:0.00)\n",
      "[Epoch 6-VALID] Batchnorm Loss(Acc): bn_loss:0.03541(bn_acc:0.00) vs No Batchnorm Loss(Acc): nn_loss:0.03537(nn_acc:0.00)\n",
      "[Epoch 7-VALID] Batchnorm Loss(Acc): bn_loss:0.03800(bn_acc:0.00) vs No Batchnorm Loss(Acc): nn_loss:0.03796(nn_acc:0.00)\n",
      "[Epoch 8-VALID] Batchnorm Loss(Acc): bn_loss:0.02959(bn_acc:0.00) vs No Batchnorm Loss(Acc): nn_loss:0.02945(nn_acc:0.00)\n",
      "[Epoch 9-VALID] Batchnorm Loss(Acc): bn_loss:0.03074(bn_acc:0.00) vs No Batchnorm Loss(Acc): nn_loss:0.03072(nn_acc:0.00)\n",
      "[Epoch 10-VALID] Batchnorm Loss(Acc): bn_loss:0.03180(bn_acc:0.00) vs No Batchnorm Loss(Acc): nn_loss:0.03180(nn_acc:0.00)\n",
      "[Epoch 11-VALID] Batchnorm Loss(Acc): bn_loss:0.02925(bn_acc:0.00) vs No Batchnorm Loss(Acc): nn_loss:0.02921(nn_acc:0.00)\n",
      "Learning finished\n"
     ]
    }
   ],
   "source": [
    "# Save losses and accuracies every epoch\n",
    "train_losses = []\n",
    "train_accs = []\n",
    "\n",
    "valid_losses = []\n",
    "valid_accs = []\n",
    "\n",
    "train_total_batch = len(train_loader)\n",
    "test_total_batch = len(test_loader)\n",
    "\n",
    "for epoch in range(epochs+1):\n",
    "    bn_model.train()\n",
    "    nn_model.train()\n",
    "    \n",
    "    for x, y in train_loader:\n",
    "        x = x.view(-1, 28*28).to(device)\n",
    "        y = y.to(device)\n",
    "        \n",
    "        bn_optimizer.zero_grad()\n",
    "        bn_pred = bn_model(x)\n",
    "        bn_loss = criterion(bn_pred, y) \n",
    "        bn_loss.backward()\n",
    "        bn_optimizer.step()\n",
    "        \n",
    "        nn_optimizer.zero_grad()\n",
    "        nn_pred = bn_model(x)\n",
    "        nn_loss = criterion(nn_pred, y) \n",
    "        nn_loss.backward()\n",
    "        nn_optimizer.step()\n",
    "        \n",
    "    with torch.no_grad():\n",
    "        bn_model.eval()\n",
    "        nn_model.eval()\n",
    "        \n",
    "        bn_lost, nn_loss, bn_acc, nn_acc = 0, 0, 0, 0\n",
    "        for i, (x, y) in enumerate(train_loader):\n",
    "            x = x.view(-1, 28*28).to(device)\n",
    "            y = y.to(device)\n",
    "            \n",
    "            bn_pred = bn_model(x)\n",
    "            bn_correct_pred = torch.argmax(bn_pred, 1) == y\n",
    "            bn_loss += criterion(bn_pred, y)\n",
    "            bn_acc += bn_correct_pred.float().mean()\n",
    "        \n",
    "            nn_pred = bn_model(x)\n",
    "            nn_correct_pred = torch.argmax(bn_pred, 1) == y\n",
    "            nn_loss += criterion(nn_pred, y)\n",
    "            nn_acc += bn_correct_pred.float().mean()\n",
    "\n",
    "        bn_loss = bn_loss / train_total_batch\n",
    "        nn_loss = nn_loss / train_total_batch\n",
    "        bn_acc  = bn_loss / train_total_batch\n",
    "        nn_acc  = nn_loss / train_total_batch\n",
    "        \n",
    "        # Save valid losses/accuracies\n",
    "        valid_losses.append([bn_loss, nn_loss])\n",
    "        valid_accs.append([bn_acc, nn_acc])\n",
    "        print('[Epoch %d-VALID] Batchnorm Loss(Acc): bn_loss:%.5f(bn_acc:%.2f) vs No Batchnorm Loss(Acc): nn_loss:%.5f(nn_acc:%.2f)' % (\n",
    "                (epoch + 1), bn_loss.item(), bn_acc.item(), nn_loss.item(), nn_acc.item()))\n",
    "        \n",
    "print('Learning finished')"
   ]
  },
  {
   "cell_type": "code",
   "execution_count": 16,
   "metadata": {},
   "outputs": [
    {
     "data": {
      "text/plain": [
       "[[tensor(2.5657e-05, device='cuda:0'), tensor(2.5643e-05, device='cuda:0')],\n",
       " [tensor(2.3306e-05, device='cuda:0'), tensor(2.3303e-05, device='cuda:0')],\n",
       " [tensor(2.1999e-05, device='cuda:0'), tensor(2.1998e-05, device='cuda:0')],\n",
       " [tensor(2.1535e-05, device='cuda:0'), tensor(2.1519e-05, device='cuda:0')],\n",
       " [tensor(2.1716e-05, device='cuda:0'), tensor(2.1708e-05, device='cuda:0')],\n",
       " [tensor(1.8883e-05, device='cuda:0'), tensor(1.8866e-05, device='cuda:0')],\n",
       " [tensor(2.0266e-05, device='cuda:0'), tensor(2.0246e-05, device='cuda:0')],\n",
       " [tensor(1.5780e-05, device='cuda:0'), tensor(1.5709e-05, device='cuda:0')],\n",
       " [tensor(1.6397e-05, device='cuda:0'), tensor(1.6386e-05, device='cuda:0')],\n",
       " [tensor(1.6963e-05, device='cuda:0'), tensor(1.6962e-05, device='cuda:0')],\n",
       " [tensor(1.5599e-05, device='cuda:0'), tensor(1.5580e-05, device='cuda:0')]]"
      ]
     },
     "execution_count": 16,
     "metadata": {},
     "output_type": "execute_result"
    }
   ],
   "source": [
    "valid_accs"
   ]
  },
  {
   "cell_type": "code",
   "execution_count": 17,
   "metadata": {},
   "outputs": [
    {
     "data": {
      "text/plain": [
       "[[tensor(0.0481, device='cuda:0'), tensor(0.0481, device='cuda:0')],\n",
       " [tensor(0.0437, device='cuda:0'), tensor(0.0437, device='cuda:0')],\n",
       " [tensor(0.0412, device='cuda:0'), tensor(0.0412, device='cuda:0')],\n",
       " [tensor(0.0404, device='cuda:0'), tensor(0.0403, device='cuda:0')],\n",
       " [tensor(0.0407, device='cuda:0'), tensor(0.0407, device='cuda:0')],\n",
       " [tensor(0.0354, device='cuda:0'), tensor(0.0354, device='cuda:0')],\n",
       " [tensor(0.0380, device='cuda:0'), tensor(0.0380, device='cuda:0')],\n",
       " [tensor(0.0296, device='cuda:0'), tensor(0.0295, device='cuda:0')],\n",
       " [tensor(0.0307, device='cuda:0'), tensor(0.0307, device='cuda:0')],\n",
       " [tensor(0.0318, device='cuda:0'), tensor(0.0318, device='cuda:0')],\n",
       " [tensor(0.0292, device='cuda:0'), tensor(0.0292, device='cuda:0')]]"
      ]
     },
     "execution_count": 17,
     "metadata": {},
     "output_type": "execute_result"
    }
   ],
   "source": [
    "valid_losses"
   ]
  },
  {
   "cell_type": "code",
   "execution_count": null,
   "metadata": {},
   "outputs": [],
   "source": []
  }
 ],
 "metadata": {
  "kernelspec": {
   "display_name": "Python 3",
   "language": "python",
   "name": "python3"
  },
  "language_info": {
   "codemirror_mode": {
    "name": "ipython",
    "version": 3
   },
   "file_extension": ".py",
   "mimetype": "text/x-python",
   "name": "python",
   "nbconvert_exporter": "python",
   "pygments_lexer": "ipython3",
   "version": "3.5.2"
  }
 },
 "nbformat": 4,
 "nbformat_minor": 2
}
