{
 "cells": [
  {
   "cell_type": "markdown",
   "metadata": {},
   "source": [
    "# Batch Normalization"
   ]
  },
  {
   "cell_type": "markdown",
   "metadata": {},
   "source": [
    "## definition\n",
    "the method to control covariate shift at each layer "
   ]
  },
  {
   "cell_type": "markdown",
   "metadata": {},
   "source": [
    "\\begin{equation}\n",
    "{μ}_{Β} ←  \\\\\n",
    "Var(W) = \\sqrt{\\frac{2} {n_{in} + n_{out}}} \\\\\n",
    "\\end{equation}"
   ]
  },
  {
   "cell_type": "markdown",
   "metadata": {},
   "source": [
    "\\begin{equation*}\n",
    "    m = \\frac{\\sum{}^{} {}}{\\sqrt{1-\\frac{v^2}{c^2}‭}}\n",
    "\\end{equation*}"
   ]
  },
  {
   "cell_type": "code",
   "execution_count": null,
   "metadata": {},
   "outputs": [],
   "source": [
    "import torch\n",
    "import torch.nn as nn\n",
    "import torchvision.datasets as dsets\n",
    "import torchvision.transforms as transforms\n",
    "import matplotlib.pylab as plt"
   ]
  },
  {
   "cell_type": "code",
   "execution_count": null,
   "metadata": {},
   "outputs": [],
   "source": [
    "device = 'cuda' if torch.cuda.is_available() else 'cpu'\n",
    "\n",
    "# for reporductibility\n",
    "torch.manual_seed(1)\n",
    "if device == 'cuda':\n",
    "    torch.cuda.manual_seed_all(1)"
   ]
  },
  {
   "cell_type": "code",
   "execution_count": null,
   "metadata": {},
   "outputs": [],
   "source": [
    "# parameters\n",
    "lr = 0.01\n",
    "epochs = 10\n",
    "batch_size = 32"
   ]
  },
  {
   "cell_type": "markdown",
   "metadata": {},
   "source": [
    "## Prepare dataset\n",
    "#### download"
   ]
  },
  {
   "cell_type": "code",
   "execution_count": null,
   "metadata": {},
   "outputs": [],
   "source": [
    "mnist_train = dsets.MNIST(root=\"../_datasets/\", # 파일의 위치\n",
    "                          train=True, # 학습 데이터 여부\n",
    "                          transform=transforms.ToTensor(), # 데이터의 순서를 이미지에서 텐서에 맞도록 변환\n",
    "                                                           # 일반 이미지 : 값 0~255, 순서 Height, Weight, Channel\n",
    "                                                           # 변환된 이미지 : 값 0~1, 순서 Channel, Height, Weight\n",
    "                          download=True)                   # 데이터가 없는 경우 다운을 받음\n",
    "mnist_test = dsets.MNIST(root=\"../_datasets/\", \n",
    "                          train=False, \n",
    "                          transform=transforms.ToTensor(),\n",
    "                          download=True)"
   ]
  },
  {
   "cell_type": "markdown",
   "metadata": {},
   "source": [
    "#### iterator"
   ]
  },
  {
   "cell_type": "code",
   "execution_count": null,
   "metadata": {},
   "outputs": [],
   "source": [
    "# dataset loader\n",
    "train_loader = torch.utils.data.DataLoader(dataset=mnist_train,\n",
    "                                           batch_size=batch_size,\n",
    "                                           shuffle=True,\n",
    "                                           drop_last=True)\n",
    "\n",
    "test_loader = torch.utils.data.DataLoader(dataset=mnist_test,\n",
    "                                          batch_size=batch_size,\n",
    "                                          shuffle=False,\n",
    "                                          drop_last=True)"
   ]
  },
  {
   "cell_type": "markdown",
   "metadata": {},
   "source": [
    "## Build the model"
   ]
  },
  {
   "cell_type": "code",
   "execution_count": null,
   "metadata": {},
   "outputs": [],
   "source": [
    "class ClassifierWithBN(nn.Module):\n",
    "    def __init__(self, use_bn=True):\n",
    "        super().__init__()\n",
    "        \n",
    "        if use_bn == True:\n",
    "            self.layer1 = nn.Sequential(nn.Linear(784, 32, bias=True),\n",
    "                                        nn.BatchNorm1d(32),\n",
    "                                        nn.ReLU()).to(device)\n",
    "            self.layer2 = nn.Sequential(nn.Linear(32, 32, bias=True),\n",
    "                                        nn.BatchNorm1d(32),\n",
    "                                        nn.ReLU()).to(device)\n",
    "        else:\n",
    "            self.layer1 = nn.Sequential(nn.Linear(784, 32, bias=True),\n",
    "                                        nn.ReLU()).to(device)\n",
    "            self.layer2 = nn.Sequential(nn.Linear(32, 32, bias=True),\n",
    "                                        nn.ReLU()).to(device)\n",
    "            \n",
    "        self.layer3 = nn.Linear(32, 10, bias=True).to(device)\n",
    "\n",
    "    def forward(self, x):\n",
    "        x = self.layer1(x)\n",
    "        x = self.layer2(x)\n",
    "        x = self.layer3(x)\n",
    "        return x"
   ]
  },
  {
   "cell_type": "code",
   "execution_count": null,
   "metadata": {},
   "outputs": [],
   "source": [
    "# model\n",
    "bn_model = ClassifierWithBN()\n",
    "nn_model = ClassifierWithBN(False)\n",
    "\n",
    "# cost, loss, optimizer\n",
    "criterion = torch.nn.CrossEntropyLoss().to(device)\n",
    "bn_optimizer = torch.optim.Adam(bn_model.parameters(), lr=lr)\n",
    "nn_optimizer = torch.optim.Adam(nn_model.parameters(), lr=lr)"
   ]
  },
  {
   "cell_type": "code",
   "execution_count": null,
   "metadata": {},
   "outputs": [],
   "source": [
    "# Save losses and accuracies every epoch\n",
    "train_losses, valid_losses = [], []\n",
    "train_accs, valid_accs = [], []\n",
    "\n",
    "train_total_batch = len(train_loader)\n",
    "test_total_batch = len(test_loader)"
   ]
  },
  {
   "cell_type": "code",
   "execution_count": null,
   "metadata": {},
   "outputs": [],
   "source": []
  },
  {
   "cell_type": "code",
   "execution_count": null,
   "metadata": {},
   "outputs": [],
   "source": [
    "\n",
    "\n",
    "for epoch in range(epochs+1):\n",
    "    bn_model.train()\n",
    "    nn_model.train()\n",
    "    \n",
    "    for x, y in train_loader:\n",
    "        x = x.view(-1, 28*28).to(device)\n",
    "        y = y.to(device)\n",
    "        \n",
    "        bn_optimizer.zero_grad()\n",
    "        bn_pred = bn_model(x)\n",
    "        bn_loss = criterion(bn_pred, y) \n",
    "        bn_loss.backward()\n",
    "        bn_optimizer.step()\n",
    "        \n",
    "        nn_optimizer.zero_grad()\n",
    "        nn_pred = bn_model(x)\n",
    "        nn_loss = criterion(nn_pred, y) \n",
    "        nn_loss.backward()\n",
    "        nn_optimizer.step()\n",
    "        \n",
    "    with torch.no_grad():\n",
    "        bn_model.eval()\n",
    "        nn_model.eval()\n",
    "        \n",
    "        bn_lost, nn_loss, bn_acc, nn_acc = 0, 0, 0, 0\n",
    "        for i, (x, y) in enumerate(train_loader):\n",
    "            x = x.view(-1, 28*28).to(device)\n",
    "            y = y.to(device)\n",
    "            \n",
    "            bn_pred = bn_model(x)\n",
    "            bn_correct_pred = torch.argmax(bn_pred, 1) == y\n",
    "            bn_loss += criterion(bn_pred, y)\n",
    "            bn_acc += bn_correct_pred.float().mean()\n",
    "        \n",
    "            nn_pred = bn_model(x)\n",
    "            nn_correct_pred = torch.argmax(bn_pred, 1) == y\n",
    "            nn_loss += criterion(nn_pred, y)\n",
    "            nn_acc += bn_correct_pred.float().mean()\n",
    "\n",
    "        bn_loss = bn_loss / train_total_batch\n",
    "        nn_loss = nn_loss / train_total_batch\n",
    "        bn_acc  = bn_loss / train_total_batch\n",
    "        nn_acc  = nn_loss / train_total_batch\n",
    "        \n",
    "        # Save valid losses/accuracies\n",
    "        valid_losses.append([bn_loss, nn_loss])\n",
    "        valid_accs.append([bn_acc, nn_acc])\n",
    "        print('[Epoch %d-VALID] Batchnorm Loss(Acc): bn_loss:%.5f(bn_acc:%.2f) vs No Batchnorm Loss(Acc): nn_loss:%.5f(nn_acc:%.2f)' % (\n",
    "                (epoch + 1), bn_loss.item(), bn_acc.item(), nn_loss.item(), nn_acc.item()))\n",
    "        \n",
    "print('Learning finished')"
   ]
  },
  {
   "cell_type": "code",
   "execution_count": null,
   "metadata": {},
   "outputs": [],
   "source": [
    "valid_accs"
   ]
  },
  {
   "cell_type": "code",
   "execution_count": null,
   "metadata": {},
   "outputs": [],
   "source": [
    "valid_losses"
   ]
  },
  {
   "cell_type": "code",
   "execution_count": null,
   "metadata": {},
   "outputs": [],
   "source": []
  }
 ],
 "metadata": {
  "kernelspec": {
   "display_name": "Python 3",
   "language": "python",
   "name": "python3"
  },
  "language_info": {
   "codemirror_mode": {
    "name": "ipython",
    "version": 3
   },
   "file_extension": ".py",
   "mimetype": "text/x-python",
   "name": "python",
   "nbconvert_exporter": "python",
   "pygments_lexer": "ipython3",
   "version": "3.5.2"
  }
 },
 "nbformat": 4,
 "nbformat_minor": 2
}
