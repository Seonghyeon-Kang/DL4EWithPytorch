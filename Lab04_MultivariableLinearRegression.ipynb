{
 "cells": [
  {
   "cell_type": "markdown",
   "metadata": {},
   "source": [
    "## Import packages "
   ]
  },
  {
   "cell_type": "code",
   "execution_count": 1,
   "metadata": {},
   "outputs": [],
   "source": [
    "import torch\n",
    "import torch.nn as nn\n",
    "import torch.nn.functional as F\n",
    "import torch.optim as optim"
   ]
  },
  {
   "cell_type": "markdown",
   "metadata": {},
   "source": [
    "## Matrix Data Representation\n",
    "#### Define data "
   ]
  },
  {
   "cell_type": "code",
   "execution_count": 2,
   "metadata": {},
   "outputs": [],
   "source": [
    "x_train = torch.FloatTensor([[73, 80, 75],\n",
    "                             [93, 88, 93],\n",
    "                             [89, 91, 90],\n",
    "                             [96, 98, 100],\n",
    "                             [73, 66, 70]])\n",
    "y_train = torch.FloatTensor([[152], [185], [180], [196], [142]])"
   ]
  },
  {
   "cell_type": "code",
   "execution_count": 3,
   "metadata": {},
   "outputs": [
    {
     "name": "stdout",
     "output_type": "stream",
     "text": [
      "torch.Size([5, 3])\n",
      "torch.Size([5, 1])\n"
     ]
    }
   ],
   "source": [
    "print(x_train.shape)\n",
    "print(y_train.shape)"
   ]
  },
  {
   "cell_type": "markdown",
   "metadata": {},
   "source": [
    "#### Initialize a model"
   ]
  },
  {
   "cell_type": "code",
   "execution_count": 4,
   "metadata": {},
   "outputs": [],
   "source": [
    "W = torch.zeros((3, 1), requires_grad=True) # 단변량과 다른 부분\n",
    "b = torch.zeros(1, requires_grad=True)     "
   ]
  },
  {
   "cell_type": "code",
   "execution_count": 5,
   "metadata": {},
   "outputs": [
    {
     "name": "stdout",
     "output_type": "stream",
     "text": [
      "torch.Size([3, 1])\n",
      "torch.Size([1])\n"
     ]
    }
   ],
   "source": [
    "print(W.shape)\n",
    "print(b.shape)"
   ]
  },
  {
   "cell_type": "markdown",
   "metadata": {},
   "source": [
    "#### Set a optimizer"
   ]
  },
  {
   "cell_type": "code",
   "execution_count": 6,
   "metadata": {},
   "outputs": [],
   "source": [
    "optimizer = torch.optim.SGD([W, b], lr=1e-5)"
   ]
  },
  {
   "cell_type": "markdown",
   "metadata": {},
   "source": [
    "#### Train the model"
   ]
  },
  {
   "cell_type": "code",
   "execution_count": 7,
   "metadata": {},
   "outputs": [
    {
     "name": "stdout",
     "output_type": "stream",
     "text": [
      "Epoch   0/20, Hypotheis: tensor([0., 0., 0., 0., 0.]) / Cost: 29661.800781\n",
      "Epoch   1/20, Hypotheis: tensor([67.2578, 80.8397, 79.6523, 86.7394, 61.6605]) / Cost: 9298.520508\n",
      "Epoch   2/20, Hypotheis: tensor([104.9128, 126.0990, 124.2466, 135.3015,  96.1821]) / Cost: 2915.712402\n",
      "Epoch   3/20, Hypotheis: tensor([125.9942, 151.4381, 149.2133, 162.4896, 115.5097]) / Cost: 915.040527\n",
      "Epoch   4/20, Hypotheis: tensor([137.7967, 165.6247, 163.1911, 177.7112, 126.3307]) / Cost: 287.936096\n",
      "Epoch   5/20, Hypotheis: tensor([144.4044, 173.5674, 171.0168, 186.2332, 132.3891]) / Cost: 91.371071\n",
      "Epoch   6/20, Hypotheis: tensor([148.1035, 178.0143, 175.3980, 191.0042, 135.7812]) / Cost: 29.758249\n",
      "Epoch   7/20, Hypotheis: tensor([150.1744, 180.5042, 177.8509, 193.6753, 137.6805]) / Cost: 10.445267\n",
      "Epoch   8/20, Hypotheis: tensor([151.3336, 181.8983, 179.2240, 195.1707, 138.7440]) / Cost: 4.391237\n",
      "Epoch   9/20, Hypotheis: tensor([151.9824, 182.6789, 179.9928, 196.0079, 139.3396]) / Cost: 2.493121\n",
      "Epoch  10/20, Hypotheis: tensor([152.3454, 183.1161, 180.4231, 196.4765, 139.6732]) / Cost: 1.897688\n",
      "Epoch  11/20, Hypotheis: tensor([152.5485, 183.3609, 180.6640, 196.7389, 139.8602]) / Cost: 1.710552\n",
      "Epoch  12/20, Hypotheis: tensor([152.6620, 183.4982, 180.7988, 196.8857, 139.9651]) / Cost: 1.651416\n",
      "Epoch  13/20, Hypotheis: tensor([152.7253, 183.5752, 180.8742, 196.9678, 140.0240]) / Cost: 1.632369\n",
      "Epoch  14/20, Hypotheis: tensor([152.7606, 183.6184, 180.9164, 197.0138, 140.0571]) / Cost: 1.625924\n",
      "Epoch  15/20, Hypotheis: tensor([152.7802, 183.6427, 180.9399, 197.0395, 140.0759]) / Cost: 1.623420\n",
      "Epoch  16/20, Hypotheis: tensor([152.7909, 183.6565, 180.9530, 197.0538, 140.0865]) / Cost: 1.622152\n",
      "Epoch  17/20, Hypotheis: tensor([152.7968, 183.6643, 180.9603, 197.0618, 140.0927]) / Cost: 1.621261\n",
      "Epoch  18/20, Hypotheis: tensor([152.7999, 183.6688, 180.9644, 197.0661, 140.0963]) / Cost: 1.620501\n",
      "Epoch  19/20, Hypotheis: tensor([152.8014, 183.6715, 180.9665, 197.0686, 140.0985]) / Cost: 1.619757\n",
      "Epoch  20/20, Hypotheis: tensor([152.8020, 183.6731, 180.9677, 197.0699, 140.0999]) / Cost: 1.619046\n"
     ]
    }
   ],
   "source": [
    "nb_epochs = 20\n",
    "for epoch in range(nb_epochs + 1):\n",
    "    # H(x) 계산\n",
    "    hypothesis = x_train.matmul(W) + b\n",
    "\n",
    "    # cost gradient 계산\n",
    "    cost = torch.mean((hypothesis - y_train) ** 2)\n",
    "    \n",
    "#     gradient = torch.sum(x_train.transpose(0, 1).matmul(x_train.matmul(W) - y_train))\n",
    "#     W = W - 1e-6 * gradient\n",
    "\n",
    "    # cost gradient로 H(x) 개선\n",
    "    optimizer.zero_grad()\n",
    "    cost.backward()\n",
    "    optimizer.step()\n",
    "    \n",
    "    print('Epoch {:3d}/{}, Hypotheis: {} / Cost: {:.6f}'.format(epoch, nb_epochs, hypothesis.squeeze().detach(), cost.item()))"
   ]
  },
  {
   "cell_type": "markdown",
   "metadata": {},
   "source": [
    "\n",
    "## High-level Implementation with nn.Module"
   ]
  },
  {
   "cell_type": "markdown",
   "metadata": {},
   "source": [
    "### nn.Module"
   ]
  },
  {
   "cell_type": "code",
   "execution_count": 8,
   "metadata": {},
   "outputs": [],
   "source": [
    "import torch.nn as nn\n",
    " \n",
    "class MultivariateLinearRegressionModel(nn.Module):\n",
    "    def __init__(self):\n",
    "        super().__init__()\n",
    "        self.linear = nn.Linear(3, 1)\n",
    "\n",
    "    def forward(self, x):\n",
    "        return self.linear(x)"
   ]
  },
  {
   "cell_type": "markdown",
   "metadata": {},
   "source": [
    "### F.mse_lost"
   ]
  },
  {
   "cell_type": "code",
   "execution_count": 9,
   "metadata": {},
   "outputs": [],
   "source": [
    "import torch.nn.functional as F\n",
    "\n",
    "# cost = F.mse_loss(prediction, y_train)"
   ]
  },
  {
   "cell_type": "code",
   "execution_count": 10,
   "metadata": {},
   "outputs": [
    {
     "name": "stdout",
     "output_type": "stream",
     "text": [
      "Epoch    0/20 Cost: 46710.890625\n",
      "Epoch    1/20 Cost: 14642.418945\n",
      "Epoch    2/20 Cost: 4590.657227\n",
      "Epoch    3/20 Cost: 1439.963623\n",
      "Epoch    4/20 Cost: 452.388489\n",
      "Epoch    5/20 Cost: 142.835938\n",
      "Epoch    6/20 Cost: 45.807339\n",
      "Epoch    7/20 Cost: 15.393920\n",
      "Epoch    8/20 Cost: 5.860926\n",
      "Epoch    9/20 Cost: 2.872702\n",
      "Epoch   10/20 Cost: 1.936011\n",
      "Epoch   11/20 Cost: 1.642272\n",
      "Epoch   12/20 Cost: 1.550120\n",
      "Epoch   13/20 Cost: 1.521131\n",
      "Epoch   14/20 Cost: 1.511943\n",
      "Epoch   15/20 Cost: 1.508959\n",
      "Epoch   16/20 Cost: 1.507949\n",
      "Epoch   17/20 Cost: 1.507514\n",
      "Epoch   18/20 Cost: 1.507287\n",
      "Epoch   19/20 Cost: 1.507119\n",
      "Epoch   20/20 Cost: 1.506967\n"
     ]
    }
   ],
   "source": [
    "# 모델 초기화\n",
    "model = MultivariateLinearRegressionModel()\n",
    "\n",
    "# optimizer 설정\n",
    "optimizer = optim.SGD(model.parameters(), lr=1e-5)\n",
    "\n",
    "nb_epochs = 20\n",
    "for epoch in range(nb_epochs+1):\n",
    "    \n",
    "    # H(x) 계산\n",
    "    prediction = model(x_train)\n",
    "    \n",
    "    # cost 계산\n",
    "    cost = F.mse_loss(prediction, y_train)\n",
    "    \n",
    "    # cost로 H(x) 개선\n",
    "    optimizer.zero_grad()\n",
    "    cost.backward()\n",
    "    optimizer.step()\n",
    "    \n",
    "    print('Epoch {:4d}/{} Cost: {:.6f}'.format(\n",
    "        epoch, nb_epochs, cost.item()))"
   ]
  }
 ],
 "metadata": {
  "kernelspec": {
   "display_name": "Python 3",
   "language": "python",
   "name": "python3"
  },
  "language_info": {
   "codemirror_mode": {
    "name": "ipython",
    "version": 3
   },
   "file_extension": ".py",
   "mimetype": "text/x-python",
   "name": "python",
   "nbconvert_exporter": "python",
   "pygments_lexer": "ipython3",
   "version": "3.5.2"
  }
 },
 "nbformat": 4,
 "nbformat_minor": 2
}
