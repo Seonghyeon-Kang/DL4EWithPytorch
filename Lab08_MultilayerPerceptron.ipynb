{
 "cells": [
  {
   "cell_type": "markdown",
   "metadata": {},
   "source": [
    "# Multilayer Perceptron"
   ]
  },
  {
   "cell_type": "code",
   "execution_count": 1,
   "metadata": {},
   "outputs": [],
   "source": [
    "import torch\n",
    "\n",
    "device = 'cuda' if torch.cuda.is_available() else 'cpu'\n",
    "\n",
    "# for reproducibility\n",
    "torch.manual_seed(777)\n",
    "if device == 'cuda':\n",
    "    torch.cuda.manual_seed_all(777)"
   ]
  },
  {
   "cell_type": "markdown",
   "metadata": {},
   "source": [
    "## XOR training with single layer"
   ]
  },
  {
   "cell_type": "code",
   "execution_count": 2,
   "metadata": {},
   "outputs": [],
   "source": [
    "x = torch.FloatTensor([[0,0],\n",
    "                       [1,0],\n",
    "                       [0,1],\n",
    "                       [1,1]]).to(device)\n",
    "y = torch.FloatTensor([[0], [1], [1], [0]]).to(device)\n",
    "\n",
    "linear = torch.nn.Linear(2, 1, bias = True)\n",
    "sigmoid = torch.nn.Sigmoid()\n",
    "model = torch.nn.Sequential(linear, sigmoid).to(device)"
   ]
  },
  {
   "cell_type": "code",
   "execution_count": 3,
   "metadata": {},
   "outputs": [],
   "source": [
    "criterion = torch.nn.BCELoss().to(device)\n",
    "optimizer = torch.optim.SGD(model.parameters(), lr=1)"
   ]
  },
  {
   "cell_type": "code",
   "execution_count": 4,
   "metadata": {},
   "outputs": [
    {
     "name": "stdout",
     "output_type": "stream",
     "text": [
      "0 0.7273974418640137\n",
      "1000 0.6931471824645996\n",
      "2000 0.6931471824645996\n",
      "3000 0.6931471824645996\n",
      "4000 0.6931471824645996\n",
      "5000 0.6931471824645996\n",
      "6000 0.6931471824645996\n",
      "7000 0.6931471824645996\n",
      "8000 0.6931471824645996\n",
      "9000 0.6931471824645996\n",
      "10000 0.6931471824645996\n"
     ]
    }
   ],
   "source": [
    "for epoch in range(10001):\n",
    "    optimizer.zero_grad()\n",
    "    hypothesis = model(x)\n",
    "    \n",
    "    cost = criterion(hypothesis, y)\n",
    "    cost.backward()\n",
    "    optimizer.step()\n",
    "    \n",
    "    if epoch % 1000 == 0:\n",
    "        print(epoch, cost.item())"
   ]
  },
  {
   "cell_type": "code",
   "execution_count": 5,
   "metadata": {},
   "outputs": [
    {
     "name": "stdout",
     "output_type": "stream",
     "text": [
      "\n",
      "Hypotheis:  [[0.5]\n",
      " [0.5]\n",
      " [0.5]\n",
      " [0.5]] \n",
      "Correct:  0.5\n"
     ]
    }
   ],
   "source": [
    "# prediction\n",
    "with torch.no_grad():\n",
    "    predicted = (model(x) > 0.5).float()\n",
    "    accuracy = (predicted == y).float().mean()\n",
    "    print('\\nHypotheis: ', hypothesis.detach().cpu().numpy(), '\\nCorrect: ', accuracy.item())"
   ]
  },
  {
   "cell_type": "markdown",
   "metadata": {},
   "source": [
    " ## Backpropagation with low level implemtation"
   ]
  },
  {
   "cell_type": "code",
   "execution_count": 6,
   "metadata": {},
   "outputs": [],
   "source": [
    "# nn Layers\n",
    "w1 = torch.zeros((2, 2), requires_grad=True).to(device)\n",
    "b1 = torch.zeros(2, requires_grad=True).to(device)\n",
    "w2 = torch.zeros((2, 1), requires_grad=True).to(device)\n",
    "b2 = torch.zeros(1, requires_grad=True).to(device)"
   ]
  },
  {
   "cell_type": "code",
   "execution_count": 9,
   "metadata": {},
   "outputs": [],
   "source": [
    "def sigmoid(x):\n",
    "    # sigmoid function\n",
    "    return 1. / (1. + torch.exp(-x))\n",
    "\n",
    "def sigmoid_prime(x):\n",
    "    # derivative of the sigmoid function\n",
    "    return sigmoid(x) * (1 - sigmoid(x))"
   ]
  },
  {
   "cell_type": "code",
   "execution_count": 10,
   "metadata": {},
   "outputs": [
    {
     "name": "stdout",
     "output_type": "stream",
     "text": [
      "0 0.6931471824645996\n",
      "1000 0.6931471824645996\n",
      "2000 0.6931471824645996\n",
      "3000 0.6931471824645996\n",
      "4000 0.6931471824645996\n",
      "5000 0.6931471824645996\n",
      "6000 0.6931471824645996\n",
      "7000 0.6931471824645996\n",
      "8000 0.6931471824645996\n",
      "9000 0.6931471824645996\n",
      "10000 0.6931471824645996\n"
     ]
    }
   ],
   "source": [
    "learning_rate = 0.1\n",
    "for epoch in range(10001):\n",
    "    # forward\n",
    "    l1 = torch.add(torch.matmul(x, w1), b1)\n",
    "    a1 = sigmoid(l1)\n",
    "    l2 = torch.add(torch.matmul(a1, w2), b2)\n",
    "    y_pred = sigmoid(l2)\n",
    "    \n",
    "    cost = -torch.mean(y * torch.log(y_pred) + (1 - y) * torch.log(1 - y_pred))\n",
    "    \n",
    "    # back propagation\n",
    "    # loss derivateive\n",
    "    dy_pred = (y_pred - y)  / (y_pred - (1. - y_pred) + 1e-7)\n",
    "    \n",
    "    # layer2\n",
    "    dl2 = dy_pred * sigmoid_prime(l2)\n",
    "    db2 = dl2\n",
    "    dw2 = torch.matmul(torch.transpose(a1, 0, 1), db2)\n",
    "    \n",
    "    # layer1\n",
    "    da1 = torch.matmul(db2,torch.transpose(w2, 0, 1))\n",
    "    dl1 = da1 * sigmoid_prime(l1)\n",
    "    db1 = dl1\n",
    "    dw1 = torch.matmul(torch.transpose(x, 0, 1), db1)\n",
    "    \n",
    "    # weight update\n",
    "    w1 = w1 - learning_rate * dw1\n",
    "    b1 = b1 - learning_rate * torch.mean(db1, 0)\n",
    "    w2 = w2 - learning_rate * dw2\n",
    "    b2 = b2 - learning_rate * torch.mean(db2, 0)\n",
    "    \n",
    "    if epoch % 1000 == 0:\n",
    "        print(epoch, cost.item())"
   ]
  },
  {
   "cell_type": "markdown",
   "metadata": {},
   "source": [
    "## XOR training with multilayer "
   ]
  },
  {
   "cell_type": "code",
   "execution_count": 11,
   "metadata": {},
   "outputs": [],
   "source": [
    "linear1 = torch.nn.Linear(2, 2, bias = True)\n",
    "linear2 = torch.nn.Linear(2, 1, bias = True)\n",
    "sigmoid = torch.nn.Sigmoid()\n",
    "model = torch.nn.Sequential(linear1, sigmoid, linear2, sigmoid).to(device)"
   ]
  },
  {
   "cell_type": "code",
   "execution_count": 12,
   "metadata": {},
   "outputs": [],
   "source": [
    "criterion = torch.nn.BCELoss().to(device)\n",
    "optimizer = torch.optim.SGD(model.parameters(), lr=0.1)"
   ]
  },
  {
   "cell_type": "code",
   "execution_count": 13,
   "metadata": {},
   "outputs": [
    {
     "name": "stdout",
     "output_type": "stream",
     "text": [
      "0 0.700675368309021\n",
      "10000 0.36864450573921204\n",
      "20000 0.3513495624065399\n",
      "30000 0.3491658568382263\n",
      "40000 0.34833723306655884\n",
      "50000 0.3479047417640686\n",
      "60000 0.3476399779319763\n",
      "70000 0.3474620282649994\n",
      "80000 0.3473343849182129\n",
      "90000 0.3472381830215454\n",
      "100000 0.34716323018074036\n"
     ]
    }
   ],
   "source": [
    "for epoch in range(100001):\n",
    "    optimizer.zero_grad()\n",
    "    hypothesis = model(x)\n",
    "    \n",
    "    cost = criterion(hypothesis, y)\n",
    "    cost.backward()\n",
    "    optimizer.step()\n",
    "    if epoch % 10000 == 0:\n",
    "        print(epoch, cost.item())"
   ]
  },
  {
   "cell_type": "code",
   "execution_count": 14,
   "metadata": {},
   "outputs": [
    {
     "name": "stdout",
     "output_type": "stream",
     "text": [
      "\n",
      "Hypotheis:  [[5.959064e-04]\n",
      " [9.993474e-01]\n",
      " [4.997455e-01]\n",
      " [5.003001e-01]] \n",
      "Correct:  0.5\n"
     ]
    }
   ],
   "source": [
    "# prediction\n",
    "with torch.no_grad():\n",
    "    predicted = (model(x) > 0.5).float()\n",
    "    accuracy = (predicted == y).float().mean()\n",
    "    print('\\nHypotheis: ', hypothesis.detach().cpu().numpy(), \"\\nCorrect: \", accuracy.item())"
   ]
  }
 ],
 "metadata": {
  "kernelspec": {
   "display_name": "Python 3",
   "language": "python",
   "name": "python3"
  },
  "language_info": {
   "codemirror_mode": {
    "name": "ipython",
    "version": 3
   },
   "file_extension": ".py",
   "mimetype": "text/x-python",
   "name": "python",
   "nbconvert_exporter": "python",
   "pygments_lexer": "ipython3",
   "version": "3.5.2"
  }
 },
 "nbformat": 4,
 "nbformat_minor": 2
}
