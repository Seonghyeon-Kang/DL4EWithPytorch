{
 "cells": [
  {
   "cell_type": "markdown",
   "metadata": {},
   "source": [
    "# Loading Data"
   ]
  },
  {
   "cell_type": "markdown",
   "metadata": {},
   "source": [
    "## Minibatch Gradient Descent\n",
    "+ 엄청난 양의 데이터를 한번에 학습시킬 수 없음\n",
    "    + 너무 느림\n",
    "    + 하드웨어가 감당할 수 없음\n",
    "+ 일부분의 데이터로 학습하는 방법"
   ]
  },
  {
   "cell_type": "markdown",
   "metadata": {},
   "source": [
    "## PyTorch Dataset"
   ]
  },
  {
   "cell_type": "code",
   "execution_count": 1,
   "metadata": {},
   "outputs": [],
   "source": [
    "from torch.utils.data import Dataset\n",
    "\n",
    "class CustomDataset(Dataset):\n",
    "    def __init__(self):\n",
    "        self.x_data = [[73, 80, 75],\n",
    "                       [93, 88, 93],\n",
    "                       [89, 91, 90],\n",
    "                       [96, 98, 100],\n",
    "                       [73, 66, 70]]\n",
    "        self.y_data = [[152], [185], [180], [196], [142]]\n",
    "        \n",
    "    def __len__(self):\n",
    "        return len(self.x_data)\n",
    "    \n",
    "    def __getitem__(self, idx):\n",
    "        x = torch.FloatTensor(self.x_data[idx])\n",
    "        y = torch.FloatTensor(self.y_data[idx])\n",
    "        \n",
    "        return x, y\n",
    "    \n",
    "dataset = CustomDataset()"
   ]
  },
  {
   "cell_type": "code",
   "execution_count": 2,
   "metadata": {},
   "outputs": [],
   "source": [
    "from torch.utils.data import DataLoader\n",
    "\n",
    "dataloader = DataLoader(\n",
    "    dataset,\n",
    "    batch_size=2, # usaully set powered 2 \n",
    "    shuffle=True  # prevent to memorize sequence of data\n",
    ")"
   ]
  },
  {
   "cell_type": "markdown",
   "metadata": {},
   "source": [
    "## Train a model with Dataset and DataLoader"
   ]
  },
  {
   "cell_type": "code",
   "execution_count": 3,
   "metadata": {},
   "outputs": [],
   "source": [
    "import torch\n",
    "import torch.nn as nn\n",
    "import torch.nn.functional as F\n",
    "import torch.optim as optim"
   ]
  },
  {
   "cell_type": "code",
   "execution_count": 4,
   "metadata": {},
   "outputs": [],
   "source": [
    "class MultivariateLinearRegressionModel(nn.Module):\n",
    "    def __init__(self):\n",
    "        super().__init__()\n",
    "        self.linear = nn.Linear(3, 1)\n",
    "\n",
    "    def forward(self, x):\n",
    "        return self.linear(x)"
   ]
  },
  {
   "cell_type": "code",
   "execution_count": 5,
   "metadata": {},
   "outputs": [],
   "source": [
    "model = MultivariateLinearRegressionModel()\n",
    "optimizer = optim.SGD(model.parameters(), lr=1e-5)"
   ]
  },
  {
   "cell_type": "code",
   "execution_count": 6,
   "metadata": {},
   "outputs": [
    {
     "name": "stdout",
     "output_type": "stream",
     "text": [
      "Epoch    0/20 Batch 1/3 Cost 49558.144531\n",
      "Epoch    0/20 Batch 2/3 Cost 20046.150391\n",
      "Epoch    0/20 Batch 3/3 Cost 8655.345703\n",
      "Epoch    1/20 Batch 1/3 Cost 1308.824707\n",
      "Epoch    1/20 Batch 2/3 Cost 410.766144\n",
      "Epoch    1/20 Batch 3/3 Cost 119.874031\n",
      "Epoch    2/20 Batch 1/3 Cost 56.005630\n",
      "Epoch    2/20 Batch 2/3 Cost 16.775938\n",
      "Epoch    2/20 Batch 3/3 Cost 0.466925\n",
      "Epoch    3/20 Batch 1/3 Cost 6.616332\n",
      "Epoch    3/20 Batch 2/3 Cost 1.619426\n",
      "Epoch    3/20 Batch 3/3 Cost 17.732380\n",
      "Epoch    4/20 Batch 1/3 Cost 3.666771\n",
      "Epoch    4/20 Batch 2/3 Cost 3.730549\n",
      "Epoch    4/20 Batch 3/3 Cost 14.214428\n",
      "Epoch    5/20 Batch 1/3 Cost 2.766657\n",
      "Epoch    5/20 Batch 2/3 Cost 5.896827\n",
      "Epoch    5/20 Batch 3/3 Cost 13.715961\n",
      "Epoch    6/20 Batch 1/3 Cost 2.810760\n",
      "Epoch    6/20 Batch 2/3 Cost 6.694264\n",
      "Epoch    6/20 Batch 3/3 Cost 6.680919\n",
      "Epoch    7/20 Batch 1/3 Cost 8.062403\n",
      "Epoch    7/20 Batch 2/3 Cost 1.766792\n",
      "Epoch    7/20 Batch 3/3 Cost 8.541010\n",
      "Epoch    8/20 Batch 1/3 Cost 5.609428\n",
      "Epoch    8/20 Batch 2/3 Cost 7.125423\n",
      "Epoch    8/20 Batch 3/3 Cost 4.165496\n",
      "Epoch    9/20 Batch 1/3 Cost 6.664866\n",
      "Epoch    9/20 Batch 2/3 Cost 7.422330\n",
      "Epoch    9/20 Batch 3/3 Cost 3.964192\n",
      "Epoch   10/20 Batch 1/3 Cost 3.614881\n",
      "Epoch   10/20 Batch 2/3 Cost 9.648616\n",
      "Epoch   10/20 Batch 3/3 Cost 4.892632\n",
      "Epoch   11/20 Batch 1/3 Cost 8.122954\n",
      "Epoch   11/20 Batch 2/3 Cost 3.949222\n",
      "Epoch   11/20 Batch 3/3 Cost 1.294073\n",
      "Epoch   12/20 Batch 1/3 Cost 7.737247\n",
      "Epoch   12/20 Batch 2/3 Cost 1.796527\n",
      "Epoch   12/20 Batch 3/3 Cost 7.960619\n",
      "Epoch   13/20 Batch 1/3 Cost 3.661771\n",
      "Epoch   13/20 Batch 2/3 Cost 5.637082\n",
      "Epoch   13/20 Batch 3/3 Cost 6.263664\n",
      "Epoch   14/20 Batch 1/3 Cost 0.842509\n",
      "Epoch   14/20 Batch 2/3 Cost 8.656837\n",
      "Epoch   14/20 Batch 3/3 Cost 6.259082\n",
      "Epoch   15/20 Batch 1/3 Cost 4.882830\n",
      "Epoch   15/20 Batch 2/3 Cost 7.195151\n",
      "Epoch   15/20 Batch 3/3 Cost 4.032782\n",
      "Epoch   16/20 Batch 1/3 Cost 3.981006\n",
      "Epoch   16/20 Batch 2/3 Cost 5.182625\n",
      "Epoch   16/20 Batch 3/3 Cost 13.073119\n",
      "Epoch   17/20 Batch 1/3 Cost 2.820014\n",
      "Epoch   17/20 Batch 2/3 Cost 6.559850\n",
      "Epoch   17/20 Batch 3/3 Cost 6.733635\n",
      "Epoch   18/20 Batch 1/3 Cost 4.373079\n",
      "Epoch   18/20 Batch 2/3 Cost 1.640370\n",
      "Epoch   18/20 Batch 3/3 Cost 15.677545\n",
      "Epoch   19/20 Batch 1/3 Cost 6.995873\n",
      "Epoch   19/20 Batch 2/3 Cost 2.561653\n",
      "Epoch   19/20 Batch 3/3 Cost 4.658565\n",
      "Epoch   20/20 Batch 1/3 Cost 1.275003\n",
      "Epoch   20/20 Batch 2/3 Cost 8.228120\n",
      "Epoch   20/20 Batch 3/3 Cost 5.768617\n"
     ]
    }
   ],
   "source": [
    "nb_epochs = 20\n",
    "costs = []\n",
    "for epoch in range(nb_epochs + 1):\n",
    "    for batch_idx, sample in enumerate(dataloader):\n",
    "        x_train, y_train = sample\n",
    "        prediction = model(x_train)\n",
    "        \n",
    "        cost = F.mse_loss(prediction, y_train)\n",
    "        \n",
    "        optimizer.zero_grad()\n",
    "        cost.backward()\n",
    "        optimizer.step()\n",
    "        \n",
    "        print(\"Epoch {:4d}/{} Batch {}/{} Cost {:.6f}\".format(\n",
    "            epoch, nb_epochs, batch_idx+1, len(dataloader),\n",
    "            cost.item()))\n",
    "        \n",
    "        costs.append(cost.item())\n",
    "        # item() is used to return scalar value if tensor has one value "
   ]
  },
  {
   "cell_type": "code",
   "execution_count": 7,
   "metadata": {},
   "outputs": [
    {
     "data": {
      "text/plain": [
       "[<matplotlib.lines.Line2D at 0x7f90a42672b0>]"
      ]
     },
     "execution_count": 7,
     "metadata": {},
     "output_type": "execute_result"
    },
    {
     "data": {
      "image/png": "[encoded data removed]",
      "text/plain": [
       "<Figure size 432x288 with 1 Axes>"
      ]
     },
     "metadata": {
      "needs_background": "light"
     },
     "output_type": "display_data"
    }
   ],
   "source": [
    "import matplotlib.pyplot as plt\n",
    "%matplotlib inline\n",
    "\n",
    "plt.plot(costs[4:])"
   ]
  }
 ],
 "metadata": {
  "kernelspec": {
   "display_name": "Python 3",
   "language": "python",
   "name": "python3"
  },
  "language_info": {
   "codemirror_mode": {
    "name": "ipython",
    "version": 3
   },
   "file_extension": ".py",
   "mimetype": "text/x-python",
   "name": "python",
   "nbconvert_exporter": "python",
   "pygments_lexer": "ipython3",
   "version": "3.5.2"
  }
 },
 "nbformat": 4,
 "nbformat_minor": 2
}
