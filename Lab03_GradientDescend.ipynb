{
 "cells": [
  {
   "cell_type": "markdown",
   "metadata": {},
   "source": [
    "+ 데이터 합계는 1이어야 함\n",
    "+ gradient를 직접 구함"
   ]
  },
  {
   "cell_type": "code",
   "execution_count": 21,
   "metadata": {},
   "outputs": [],
   "source": [
    "import torch\n",
    "\n",
    "x_train = torch.FloatTensor([[1], [2], [3]])\n",
    "y_train = torch.FloatTensor([[1], [2], [3]])"
   ]
  },
  {
   "cell_type": "code",
   "execution_count": 22,
   "metadata": {},
   "outputs": [],
   "source": [
    "W = torch.zeros(1)\n",
    "lr = 0.05"
   ]
  },
  {
   "cell_type": "code",
   "execution_count": 23,
   "metadata": {},
   "outputs": [
    {
     "name": "stdout",
     "output_type": "stream",
     "text": [
      "Epoch   0/10 W: 0.000, Cost: 4.666667, GD: -14.0000\n",
      "Epoch   1/10 W: 0.700, Cost: 0.420000, GD: -4.2000\n",
      "Epoch   2/10 W: 0.910, Cost: 0.037800, GD: -1.2600\n",
      "Epoch   3/10 W: 0.973, Cost: 0.003402, GD: -0.3780\n",
      "Epoch   4/10 W: 0.992, Cost: 0.000306, GD: -0.1134\n",
      "Epoch   5/10 W: 0.998, Cost: 0.000028, GD: -0.0340\n",
      "Epoch   6/10 W: 0.999, Cost: 0.000002, GD: -0.0102\n",
      "Epoch   7/10 W: 1.000, Cost: 0.000000, GD: -0.0031\n",
      "Epoch   8/10 W: 1.000, Cost: 0.000000, GD: -0.0009\n",
      "Epoch   9/10 W: 1.000, Cost: 0.000000, GD: -0.0003\n",
      "Epoch  10/10 W: 1.000, Cost: 0.000000, GD: -0.0001\n"
     ]
    }
   ],
   "source": [
    "nb_epochs = 10\n",
    "for epoch in range(nb_epochs + 1):\n",
    "    # H(x) 계산\n",
    "    hypothesis = x_train * W\n",
    "\n",
    "    # cost gradient 계산\n",
    "    cost = torch.mean((hypothesis - y_train) ** 2)\n",
    "    gradient = torch.sum((W * x_train - y_train) * x_train)\n",
    "    \n",
    "    print('Epoch {:3d}/{} W: {:.3f}, Cost: {:.6f}, GD: {:.4f}'.format(epoch, nb_epochs, W.item(), cost.item(), gradient))\n",
    "    \n",
    "    # cost gradient로 H(x) 개선\n",
    "    W -= lr * gradient"
   ]
  },
  {
   "cell_type": "markdown",
   "metadata": {},
   "source": [
    "+ torch.optim을 통한 gradient 계산"
   ]
  },
  {
   "cell_type": "code",
   "execution_count": 30,
   "metadata": {},
   "outputs": [
    {
     "name": "stdout",
     "output_type": "stream",
     "text": [
      "Epoch   0/10 W: 0.000, Cost: 4.666667, GD: -14.0000\n",
      "Epoch   1/10 W: 0.467, Cost: 1.327407, GD: -14.0000\n",
      "Epoch   2/10 W: 0.716, Cost: 0.377574, GD: -14.0000\n",
      "Epoch   3/10 W: 0.848, Cost: 0.107399, GD: -14.0000\n",
      "Epoch   4/10 W: 0.919, Cost: 0.030549, GD: -14.0000\n",
      "Epoch   5/10 W: 0.957, Cost: 0.008689, GD: -14.0000\n",
      "Epoch   6/10 W: 0.977, Cost: 0.002472, GD: -14.0000\n",
      "Epoch   7/10 W: 0.988, Cost: 0.000703, GD: -14.0000\n",
      "Epoch   8/10 W: 0.993, Cost: 0.000200, GD: -14.0000\n",
      "Epoch   9/10 W: 0.997, Cost: 0.000057, GD: -14.0000\n",
      "Epoch  10/10 W: 0.998, Cost: 0.000016, GD: -14.0000\n"
     ]
    }
   ],
   "source": [
    "import torch\n",
    "\n",
    "W = torch.zeros(1, requires_grad=True)\n",
    "optimizer = torch.optim.SGD([W], lr=0.05)\n",
    "\n",
    "nb_epochs = 10\n",
    "for epoch in range(nb_epochs + 1):\n",
    "    # H(x) 계산\n",
    "    hypothesis = x_train * W\n",
    "\n",
    "    # cost gradient 계산\n",
    "    cost = torch.mean((hypothesis - y_train) ** 2)\n",
    "    # gradient = torch.sum((W * x_train - y_train) * x_train)\n",
    "    \n",
    "    print('Epoch {:3d}/{} W: {:.3f}, Cost: {:.6f}, GD: {:.4f}'.format(epoch, nb_epochs, W.item(), cost.item(), gradient))\n",
    "    \n",
    "    # cost gradient로 H(x) 개선\n",
    "    optimizer.zero_grad()\n",
    "    cost.backward()\n",
    "    optimizer.step()"
   ]
  }
 ],
 "metadata": {
  "kernelspec": {
   "display_name": "Python 3",
   "language": "python",
   "name": "python3"
  },
  "language_info": {
   "codemirror_mode": {
    "name": "ipython",
    "version": 3
   },
   "file_extension": ".py",
   "mimetype": "text/x-python",
   "name": "python",
   "nbconvert_exporter": "python",
   "pygments_lexer": "ipython3",
   "version": "3.5.2"
  }
 },
 "nbformat": 4,
 "nbformat_minor": 2
}
